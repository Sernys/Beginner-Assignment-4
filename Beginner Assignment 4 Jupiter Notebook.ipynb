{
 "cells": [
  {
   "cell_type": "markdown",
   "metadata": {},
   "source": [
    "# Object-Oriented-Programming (OOP)"
   ]
  },
  {
   "cell_type": "markdown",
   "metadata": {},
   "source": [
    "## Tasks Today:\n",
    "\n",
    "   \n",
    "\n",
    "1) <b>Creating a Class (Initializing/Declaring)</b> <br>\n",
    "2) <b>Using a Class (Instantiating)</b> <br>\n",
    " &nbsp;&nbsp;&nbsp;&nbsp; a) Creating One Instance <br>\n",
    " &nbsp;&nbsp;&nbsp;&nbsp; b) Creating Multiple Instances <br>\n",
    " &nbsp;&nbsp;&nbsp;&nbsp; c) In-Class Exercise #1 - Create a Class 'Car' and instantiate three different makes of cars <br>\n",
    "3) <b>The \\__init\\__() Method</b> <br>\n",
    " &nbsp;&nbsp;&nbsp;&nbsp; a) The 'self' Attribute <br>\n",
    "4) <b>Class Attributes</b> <br>\n",
    " &nbsp;&nbsp;&nbsp;&nbsp; a) Initializing Attributes <br>\n",
    " &nbsp;&nbsp;&nbsp;&nbsp; b) Setting an Attribute Outside of the \\__init\\__() Method <br>\n",
    " &nbsp;&nbsp;&nbsp;&nbsp; c) Setting Defaults for Attributes <br>\n",
    " &nbsp;&nbsp;&nbsp;&nbsp; d) Accessing Class Attributes <br>\n",
    " &nbsp;&nbsp;&nbsp;&nbsp; e) Changing Class Attributes <br>\n",
    " &nbsp;&nbsp;&nbsp;&nbsp; f) In-Class Exercise #2 - Add a color and wheels attribute to your 'Car' class <br>\n",
    "5) <b>Class Methods</b> <br>\n",
    " &nbsp;&nbsp;&nbsp;&nbsp; a) Creating <br>\n",
    " &nbsp;&nbsp;&nbsp;&nbsp; b) Calling <br>\n",
    " &nbsp;&nbsp;&nbsp;&nbsp; c) Modifying an Attribute's Value Through a Method <br>\n",
    " &nbsp;&nbsp;&nbsp;&nbsp; d) Incrementing an Attribute's Value Through a Method <br>\n",
    " &nbsp;&nbsp;&nbsp;&nbsp; e) In-Class Exercise #3 - Add a method that prints the cars color and wheel number, then call them <br>\n",
    "6) <b>Inheritance</b> <br>\n",
    " &nbsp;&nbsp;&nbsp;&nbsp; a) Syntax for Inheriting from a Parent Class <br>\n",
    " &nbsp;&nbsp;&nbsp;&nbsp; b) The \\__init\\__() Method for a Child Class (super()) <br>\n",
    " &nbsp;&nbsp;&nbsp;&nbsp; c) Defining Attributes and Methods for the Child Class <br>\n",
    " &nbsp;&nbsp;&nbsp;&nbsp; d) Method Overriding <br>\n",
    " &nbsp;&nbsp;&nbsp;&nbsp; e) In-Class Exercise #4 - Create a class 'Ford' that inherits from 'Car' class and initialize it as a Blue Ford Explorer with 4 wheels using the super() method <br>\n",
    "7) <b>Classes as Attributes</b> <br>\n",
    "8) <b>Exercises</b> <br>\n",
    " &nbsp;&nbsp;&nbsp;&nbsp; a) Exercise #1 - Turn the shopping cart program from yesterday into an object-oriented program <br>"
   ]
  },
  {
   "cell_type": "markdown",
   "metadata": {},
   "source": [
    "## Creating a Class (Initializing/Declaring)\n",
    "<p>When creating a class, function, or even a variable you are initializing that object. Initializing and Declaring occur at the same time in Python, whereas in lower level languages you have to declare an object before initializing it. This is the first step in the process of using a class.</p>"
   ]
  },
  {
   "cell_type": "code",
   "execution_count": 3,
   "metadata": {},
   "outputs": [],
   "source": [
    "class Car():\n",
    "    wheels = 4\n",
    "    color = 'blue'"
   ]
  },
  {
   "cell_type": "markdown",
   "metadata": {},
   "source": [
    "## Using a Class (Instantiating)\n",
    "<p>The process of creating a class is called <i>Instantiating</i>. Each time you create a variable of that type of class, it is referred to as an <i>Instance</i> of that class. This is the second step in the process of using a class.</p>"
   ]
  },
  {
   "cell_type": "markdown",
   "metadata": {},
   "source": [
    "##### Creating One Instance"
   ]
  },
  {
   "cell_type": "code",
   "execution_count": 4,
   "metadata": {},
   "outputs": [
    {
     "name": "stdout",
     "output_type": "stream",
     "text": [
      "blue\n"
     ]
    }
   ],
   "source": [
    "ford = Car()\n",
    "print(ford.color)"
   ]
  },
  {
   "cell_type": "markdown",
   "metadata": {},
   "source": [
    "##### Creating Multiple Instances"
   ]
  },
  {
   "cell_type": "code",
   "execution_count": 5,
   "metadata": {},
   "outputs": [
    {
     "name": "stdout",
     "output_type": "stream",
     "text": [
      "<class 'str'>\n"
     ]
    }
   ],
   "source": [
    "chevy = Car()\n",
    "honda = Car()\n",
    "porsche = Car()\n",
    "\n",
    "print(type(porsche.color))"
   ]
  },
  {
   "cell_type": "markdown",
   "metadata": {},
   "source": [
    "##### In-Class Exercise #1 - Create a Class 'Car' and Instantiate three different makes of cars"
   ]
  },
  {
   "cell_type": "code",
   "execution_count": 6,
   "metadata": {},
   "outputs": [
    {
     "name": "stdout",
     "output_type": "stream",
     "text": [
      "green 4 4\n",
      "blue 4 4\n",
      "red 4 4\n"
     ]
    }
   ],
   "source": [
    "class Car():\n",
    "\n",
    "  doors = 4\n",
    "  wheel = 4\n",
    "  color1 = \"red\"\n",
    "  color2 = 'blue'\n",
    "  color3 = 'green'\n",
    "\n",
    "toyota = Car()\n",
    "Acura = Car()\n",
    "Nissan = Car()\n",
    "print(toyota.color3 , toyota.wheel, toyota.doors)\n",
    "print(Nissan.color2 , Nissan.wheel, Nissan.doors)\n",
    "print(Acura.color1 , Acura.wheel , Acura.doors)"
   ]
  },
  {
   "cell_type": "markdown",
   "metadata": {},
   "source": [
    "## The \\__init\\__() Method <br>\n",
    "<p>This method is used in almost every created class, and called only once upon the creation of the class instance. This method will initialize all variables needed for the object.</p>"
   ]
  },
  {
   "cell_type": "code",
   "execution_count": 7,
   "metadata": {},
   "outputs": [
    {
     "name": "stdout",
     "output_type": "stream",
     "text": [
      "2\n",
      "6\n"
     ]
    }
   ],
   "source": [
    "class Car():\n",
    "  engine = '4.7L' #constan attribute\n",
    "\n",
    "  def __init__(self, wheels,color ):\n",
    "    self.wheels = wheels\n",
    "    self.color = color\n",
    "\n",
    "ford = Car(2,\"red\")\n",
    "chevy = Car(6,\"black\")\n",
    "print(ford.wheels)\n",
    "print(chevy.wheels)"
   ]
  },
  {
   "cell_type": "markdown",
   "metadata": {},
   "source": [
    "##### The 'self' Attribute <br>\n",
    "<p>This attribute is required to keep track of specific instance's attributes. Without the self attribute, the program would not know how to reference or keep track of an instance's attributes.</p>"
   ]
  },
  {
   "cell_type": "code",
   "execution_count": null,
   "metadata": {},
   "outputs": [],
   "source": [
    "# see above"
   ]
  },
  {
   "cell_type": "markdown",
   "metadata": {},
   "source": [
    "## Class Attributes <br>\n",
    "<p>While variables are inside of a class, they are referred to as attributes and not variables. When someone says 'attribute' you know they're speaking about a class. Attributes can be initialized through the init method, or outside of it.</p>"
   ]
  },
  {
   "cell_type": "markdown",
   "metadata": {},
   "source": [
    "##### Initializing Attributes"
   ]
  },
  {
   "cell_type": "code",
   "execution_count": 2,
   "metadata": {},
   "outputs": [],
   "source": [
    "class Toy():\n",
    "    kind = 'car'\n",
    "\n",
    "    def __init__(self, rooftop, horn,wheel = 4):\n",
    "        self.rooftop = rooftop\n",
    "        self.horn = horn\n",
    "        self.wheel = wheel\n",
    "tonka_truck = Toy(1,1)\n",
    "hotwheel_car = Toy(2,3,8)        "
   ]
  },
  {
   "cell_type": "markdown",
   "metadata": {},
   "source": [
    "##### Accessing Class Attributes"
   ]
  },
  {
   "cell_type": "code",
   "execution_count": 3,
   "metadata": {
    "scrolled": true
   },
   "outputs": [
    {
     "name": "stdout",
     "output_type": "stream",
     "text": [
      "1\n",
      "8\n"
     ]
    }
   ],
   "source": [
    "# See Above\n",
    "print(tonka_truck.horn)\n",
    "print(hotwheel_car.wheel)"
   ]
  },
  {
   "cell_type": "markdown",
   "metadata": {},
   "source": [
    "##### Setting Defaults for Attributes"
   ]
  },
  {
   "cell_type": "code",
   "execution_count": 6,
   "metadata": {},
   "outputs": [
    {
     "name": "stdout",
     "output_type": "stream",
     "text": [
      "blue\n",
      "4\n",
      "<__main__.Car object at 0x000002DA48863610>\n"
     ]
    }
   ],
   "source": [
    "class Car():\n",
    "  engine = '4.7L'\n",
    "\n",
    "  def __init__(self, wheels):\n",
    "    self.wheels = wheels\n",
    "    self.color = 'blue'\n",
    "honda = Car(4)\n",
    "print(honda.color)\n",
    "print(honda.wheels)\n",
    "honda.engine = '5.4L'\n",
    "print(honda)\n"
   ]
  },
  {
   "cell_type": "markdown",
   "metadata": {},
   "source": [
    "##### Changing Class Attributes <br>\n",
    "<p>Keep in mind there are global class attributes and then there are attributes only available to each class instance which won't effect other classes.</p>"
   ]
  },
  {
   "cell_type": "code",
   "execution_count": null,
   "metadata": {},
   "outputs": [],
   "source": []
  },
  {
   "cell_type": "code",
   "execution_count": null,
   "metadata": {},
   "outputs": [],
   "source": []
  },
  {
   "cell_type": "markdown",
   "metadata": {},
   "source": [
    "##### In-Class Exercise #2 - Add a doors and seats attribute to your 'Car' class then print out two different instances with different doors and seats"
   ]
  },
  {
   "cell_type": "code",
   "execution_count": 13,
   "metadata": {},
   "outputs": [
    {
     "name": "stdout",
     "output_type": "stream",
     "text": [
      "The Toyota has 2 doors and has 3 seats\n",
      "The Kia has 4 and 3seats\n"
     ]
    }
   ],
   "source": [
    "class Car():\n",
    "  engine = '4.7L'\n",
    "\n",
    "  def __init__(self, wheels,color, door,seats):\n",
    "    self.wheels = wheels\n",
    "    self.color = color\n",
    "    self.door = door\n",
    "    self.seats = seats\n",
    "\n",
    "\n",
    "toyota  = Car(4,\"red\",2,3)\n",
    "kia  = Car(4,\"blue\",4,3)\n",
    "\n",
    "print(f\"The Toyota has {toyota.door} doors and has {toyota.seats} seats\")\n",
    "print(f'The Kia has {kia.door} and {kia.seats}seats')\n"
   ]
  },
  {
   "cell_type": "markdown",
   "metadata": {},
   "source": [
    "## Class Methods <br>\n",
    "<p>While inside of a class, functions are referred to as 'methods'. If you hear someone mention methods, they're speaking about classes. Methods are essentially functions, but only callable on the instances of a class.</p>"
   ]
  },
  {
   "cell_type": "markdown",
   "metadata": {},
   "source": [
    "##### Creating"
   ]
  },
  {
   "cell_type": "code",
   "execution_count": 1,
   "metadata": {},
   "outputs": [],
   "source": [
    "\n",
    "class ShoopingBag():\n",
    "    ''' \n",
    "     The Shooping bag class will havve handle,capacity, and items to place inside.\n",
    "     Atribute for the class:\n",
    "     - handle:expected to be an integer\n",
    "     - item : expected to be a list\n",
    "     - capasity: expected to be an interger]\n",
    "    '''\n",
    "    def __init__(self, handles, items = [], capasity = 10 ):\n",
    "        self.handles = handles\n",
    "        self.items = items\n",
    "        self.capasity = capasity\n",
    "        \n",
    "    def showShoppingBag(self):\n",
    "        if len(self.items) == 0:\n",
    "            print(\"You have no items.\")\n",
    "        else:\n",
    "            print(\"You have items in your Bag!!!\") \n",
    "            for items in self.items:\n",
    "             print(items)\n",
    "    \n",
    "    def showCapasity(self):\n",
    "        print(f'Your remaining capacity is: {self.capasity - len(self.items)} ') #TO DO : Subtrac number of item from capasity\n",
    "    \n",
    "    def assToShoopingBAg(self): # if capasity is full reject new items\n",
    "        if len(self.items) == self.capasity:\n",
    "            print(\"You have no items.\")\n",
    "        else:\n",
    "            product = input(\"What you would like to add? \")\n",
    "            self.items.append(product)\n",
    "\n",
    "    def showHandles(self):\n",
    "        print(f'You have {self.handles} handle in the bag')\n"
   ]
  },
  {
   "cell_type": "markdown",
   "metadata": {},
   "source": [
    "##### Calling"
   ]
  },
  {
   "cell_type": "code",
   "execution_count": 2,
   "metadata": {},
   "outputs": [
    {
     "ename": "KeyboardInterrupt",
     "evalue": "Interrupted by user",
     "output_type": "error",
     "traceback": [
      "\u001b[1;31m---------------------------------------------------------------------------\u001b[0m",
      "\u001b[1;31mKeyboardInterrupt\u001b[0m                         Traceback (most recent call last)",
      "Input \u001b[1;32mIn [2]\u001b[0m, in \u001b[0;36m<cell line: 25>\u001b[1;34m()\u001b[0m\n\u001b[0;32m     21\u001b[0m      \u001b[38;5;28;01melse\u001b[39;00m:\n\u001b[0;32m     22\u001b[0m         \u001b[38;5;28mprint\u001b[39m(\u001b[38;5;124m'\u001b[39m\u001b[38;5;124mThat is not a valid option. Please enter add,show or quit\u001b[39m\u001b[38;5;124m'\u001b[39m)\n\u001b[1;32m---> 25\u001b[0m \u001b[43mrun\u001b[49m\u001b[43m(\u001b[49m\u001b[43m)\u001b[49m\n",
      "Input \u001b[1;32mIn [2]\u001b[0m, in \u001b[0;36mrun\u001b[1;34m()\u001b[0m\n\u001b[0;32m      3\u001b[0m \u001b[38;5;28;01mdef\u001b[39;00m \u001b[38;5;21mrun\u001b[39m():\n\u001b[0;32m      4\u001b[0m     \u001b[38;5;28;01mwhile\u001b[39;00m \u001b[38;5;28;01mTrue\u001b[39;00m:\n\u001b[1;32m----> 5\u001b[0m      response \u001b[38;5;241m=\u001b[39m \u001b[38;5;28;43minput\u001b[39;49m\u001b[43m(\u001b[49m\u001b[38;5;124;43m'\u001b[39;49m\u001b[38;5;124;43mWhat would you like to do?\u001b[39;49m\u001b[38;5;130;43;01m\\n\u001b[39;49;00m\u001b[38;5;130;43;01m\\n\u001b[39;49;00m\u001b[38;5;124;43m You may:\u001b[39;49m\u001b[38;5;130;43;01m\\n\u001b[39;49;00m\u001b[38;5;124;43m-Add\u001b[39;49m\u001b[38;5;130;43;01m\\n\u001b[39;49;00m\u001b[38;5;124;43m-Show\u001b[39;49m\u001b[38;5;130;43;01m\\n\u001b[39;49;00m\u001b[38;5;124;43m-Quit\u001b[39;49m\u001b[38;5;130;43;01m\\n\u001b[39;49;00m\u001b[38;5;124;43m'\u001b[39;49m\u001b[43m)\u001b[49m\n\u001b[0;32m      7\u001b[0m      \u001b[38;5;28;01mif\u001b[39;00m response\u001b[38;5;241m.\u001b[39mlower() \u001b[38;5;241m==\u001b[39m \u001b[38;5;124m'\u001b[39m\u001b[38;5;124mquit\u001b[39m\u001b[38;5;124m'\u001b[39m:\n\u001b[0;32m      8\u001b[0m         wholeFoodbag\u001b[38;5;241m.\u001b[39mshowShoppingBag()\n",
      "File \u001b[1;32m~\\anaconda3\\lib\\site-packages\\ipykernel\\kernelbase.py:1075\u001b[0m, in \u001b[0;36mKernel.raw_input\u001b[1;34m(self, prompt)\u001b[0m\n\u001b[0;32m   1071\u001b[0m \u001b[38;5;28;01mif\u001b[39;00m \u001b[38;5;129;01mnot\u001b[39;00m \u001b[38;5;28mself\u001b[39m\u001b[38;5;241m.\u001b[39m_allow_stdin:\n\u001b[0;32m   1072\u001b[0m     \u001b[38;5;28;01mraise\u001b[39;00m StdinNotImplementedError(\n\u001b[0;32m   1073\u001b[0m         \u001b[38;5;124m\"\u001b[39m\u001b[38;5;124mraw_input was called, but this frontend does not support input requests.\u001b[39m\u001b[38;5;124m\"\u001b[39m\n\u001b[0;32m   1074\u001b[0m     )\n\u001b[1;32m-> 1075\u001b[0m \u001b[38;5;28;01mreturn\u001b[39;00m \u001b[38;5;28;43mself\u001b[39;49m\u001b[38;5;241;43m.\u001b[39;49m\u001b[43m_input_request\u001b[49m\u001b[43m(\u001b[49m\n\u001b[0;32m   1076\u001b[0m \u001b[43m    \u001b[49m\u001b[38;5;28;43mstr\u001b[39;49m\u001b[43m(\u001b[49m\u001b[43mprompt\u001b[49m\u001b[43m)\u001b[49m\u001b[43m,\u001b[49m\n\u001b[0;32m   1077\u001b[0m \u001b[43m    \u001b[49m\u001b[38;5;28;43mself\u001b[39;49m\u001b[38;5;241;43m.\u001b[39;49m\u001b[43m_parent_ident\u001b[49m\u001b[43m[\u001b[49m\u001b[38;5;124;43m\"\u001b[39;49m\u001b[38;5;124;43mshell\u001b[39;49m\u001b[38;5;124;43m\"\u001b[39;49m\u001b[43m]\u001b[49m\u001b[43m,\u001b[49m\n\u001b[0;32m   1078\u001b[0m \u001b[43m    \u001b[49m\u001b[38;5;28;43mself\u001b[39;49m\u001b[38;5;241;43m.\u001b[39;49m\u001b[43mget_parent\u001b[49m\u001b[43m(\u001b[49m\u001b[38;5;124;43m\"\u001b[39;49m\u001b[38;5;124;43mshell\u001b[39;49m\u001b[38;5;124;43m\"\u001b[39;49m\u001b[43m)\u001b[49m\u001b[43m,\u001b[49m\n\u001b[0;32m   1079\u001b[0m \u001b[43m    \u001b[49m\u001b[43mpassword\u001b[49m\u001b[38;5;241;43m=\u001b[39;49m\u001b[38;5;28;43;01mFalse\u001b[39;49;00m\u001b[43m,\u001b[49m\n\u001b[0;32m   1080\u001b[0m \u001b[43m\u001b[49m\u001b[43m)\u001b[49m\n",
      "File \u001b[1;32m~\\anaconda3\\lib\\site-packages\\ipykernel\\kernelbase.py:1120\u001b[0m, in \u001b[0;36mKernel._input_request\u001b[1;34m(self, prompt, ident, parent, password)\u001b[0m\n\u001b[0;32m   1117\u001b[0m             \u001b[38;5;28;01mbreak\u001b[39;00m\n\u001b[0;32m   1118\u001b[0m \u001b[38;5;28;01mexcept\u001b[39;00m \u001b[38;5;167;01mKeyboardInterrupt\u001b[39;00m:\n\u001b[0;32m   1119\u001b[0m     \u001b[38;5;66;03m# re-raise KeyboardInterrupt, to truncate traceback\u001b[39;00m\n\u001b[1;32m-> 1120\u001b[0m     \u001b[38;5;28;01mraise\u001b[39;00m \u001b[38;5;167;01mKeyboardInterrupt\u001b[39;00m(\u001b[38;5;124m\"\u001b[39m\u001b[38;5;124mInterrupted by user\u001b[39m\u001b[38;5;124m\"\u001b[39m) \u001b[38;5;28;01mfrom\u001b[39;00m \u001b[38;5;28mNone\u001b[39m\n\u001b[0;32m   1121\u001b[0m \u001b[38;5;28;01mexcept\u001b[39;00m \u001b[38;5;167;01mException\u001b[39;00m:\n\u001b[0;32m   1122\u001b[0m     \u001b[38;5;28mself\u001b[39m\u001b[38;5;241m.\u001b[39mlog\u001b[38;5;241m.\u001b[39mwarning(\u001b[38;5;124m\"\u001b[39m\u001b[38;5;124mInvalid Message:\u001b[39m\u001b[38;5;124m\"\u001b[39m, exc_info\u001b[38;5;241m=\u001b[39m\u001b[38;5;28;01mTrue\u001b[39;00m)\n",
      "\u001b[1;31mKeyboardInterrupt\u001b[0m: Interrupted by user"
     ]
    }
   ],
   "source": [
    "# See Above\n",
    "wholeFoodbag = ShoopingBag(2)\n",
    "def run():\n",
    "    while True:\n",
    "     response = input('What would you like to do?\\n\\n You may:\\n-Add\\n-Show\\n-Quit\\n')\n",
    "     \n",
    "     if response.lower() == 'quit':\n",
    "        wholeFoodbag.showShoppingBag()\n",
    "        print('Thanks for shopping!')\n",
    "        break\n",
    "     elif response.lower() == 'add':\n",
    "        wholeFoodbag.assToShoopingBAg()\n",
    "     elif response.lower() == 'show':\n",
    "        showChoise = input('What whould you like to see: \\n- Capasity \\n- Handles \\n- Shooping Bag \\n')\n",
    "        if showChoise.lower == 'capacity':\n",
    "            wholeFoodbag.showCapasity()\n",
    "        elif showChoise.lower() == 'handles':\n",
    "            wholeFoodbag.showHandles()\n",
    "        else:\n",
    "            wholeFoodbag.showShoppingBag()\n",
    "     else:\n",
    "        print('That is not a valid option. Please enter add,show or quit')\n",
    "\n",
    "\n",
    "run()\n",
    "\n",
    "\n"
   ]
  },
  {
   "cell_type": "markdown",
   "metadata": {},
   "source": [
    "##### Modifying an Attribute's Value Through a Method"
   ]
  },
  {
   "cell_type": "code",
   "execution_count": null,
   "metadata": {},
   "outputs": [],
   "source": []
  },
  {
   "cell_type": "markdown",
   "metadata": {},
   "source": [
    "##### Incrementing an Attribute's Value Through a Method"
   ]
  },
  {
   "cell_type": "code",
   "execution_count": null,
   "metadata": {},
   "outputs": [],
   "source": []
  },
  {
   "cell_type": "markdown",
   "metadata": {},
   "source": [
    "##### In-Class Exercise #3 - Add a method that takes in three parameters of year, doors and seats and prints out a formatted print statement with make, model, year, seats, and doors"
   ]
  },
  {
   "cell_type": "code",
   "execution_count": 3,
   "metadata": {},
   "outputs": [
    {
     "name": "stdout",
     "output_type": "stream",
     "text": [
      "This car is a 2015 Toyota Corolla with 4 doors and 4 seats\n"
     ]
    }
   ],
   "source": [
    "# Create class with 2 paramters inside of the __init__ which are make and model\n",
    "\n",
    "# Inside of the Car class create a method that has 4 parameter in total (self,year,door,seats)\n",
    "\n",
    "# Output: This car is from 2019 and is a Ford Expolorer and has 4 doors and 5 seats\n",
    "class Car():\n",
    "    def __init__(self,make,model):\n",
    "        self.make = make\n",
    "        self.model = model\n",
    "    \n",
    "    def addDetails(self,year,doors,seats):\n",
    "        print(f'This car is a {year} {self.make} {self.model} with {doors} doors and {seats} seats')\n",
    "        \n",
    "        \n",
    "my_car = Car('Toyota','Corolla') # i dont like ford car so i pick another make  for the example\n",
    "my_car.addDetails(2015,4,4)"
   ]
  },
  {
   "cell_type": "markdown",
   "metadata": {},
   "source": [
    "## Inheritance <br>\n",
    "<p>You can create a child-parent relationship between two classes by using inheritance. What this allows you to do is have overriding methods, but also inherit traits from the parent class. Think of it as an actual parent and child, the child will inherit the parent's genes, as will the classes in OOP</p>"
   ]
  },
  {
   "cell_type": "markdown",
   "metadata": {},
   "source": [
    "##### Syntax for Inheriting from a Parent Class"
   ]
  },
  {
   "cell_type": "code",
   "execution_count": null,
   "metadata": {},
   "outputs": [],
   "source": []
  },
  {
   "cell_type": "markdown",
   "metadata": {},
   "source": [
    "##### The \\__init\\__() Method for a Child Class - super()"
   ]
  },
  {
   "cell_type": "code",
   "execution_count": null,
   "metadata": {
    "scrolled": true
   },
   "outputs": [],
   "source": []
  },
  {
   "cell_type": "markdown",
   "metadata": {},
   "source": [
    "##### Defining Attributes and Methods for the Child Class"
   ]
  },
  {
   "cell_type": "code",
   "execution_count": null,
   "metadata": {},
   "outputs": [],
   "source": [
    "# See Above"
   ]
  },
  {
   "cell_type": "markdown",
   "metadata": {},
   "source": [
    "##### Method Overriding"
   ]
  },
  {
   "cell_type": "code",
   "execution_count": null,
   "metadata": {},
   "outputs": [],
   "source": [
    "# See Above"
   ]
  },
  {
   "cell_type": "markdown",
   "metadata": {},
   "source": [
    "## Classes as Attributes <br>\n",
    "<p>Classes can also be used as attributes within another class. This is useful in situations where you need to keep variables locally stored, instead of globally stored.</p>"
   ]
  },
  {
   "cell_type": "code",
   "execution_count": null,
   "metadata": {},
   "outputs": [],
   "source": []
  },
  {
   "cell_type": "markdown",
   "metadata": {},
   "source": [
    "# Exercises"
   ]
  },
  {
   "cell_type": "markdown",
   "metadata": {},
   "source": [
    "### Exercise 1 - Turn the shopping cart program from yesterday into an object-oriented program\n",
    "\n",
    "The comments in the cell below are there as a guide for thinking about the problem. However, if you feel a different way is best for you and your own thought process, please do what feels best for you by all means."
   ]
  },
  {
   "cell_type": "code",
   "execution_count": 18,
   "metadata": {},
   "outputs": [],
   "source": [
    "# Create a class called cart that retains items and has methods to add, remove, and show\n",
    "class Cart():\n",
    "    \n",
    "    def __init__(self, items_list = []):\n",
    "        self.items_list = items_list\n",
    "\n",
    "    def userAdd(self): # Adding items to your list\n",
    "        items = input(\"\\nWhat would you like to add to the list!\\n\")\n",
    "        self.items_list.append(items)\n",
    "\n",
    "    def showList(self):# Show items from the list\n",
    "        if len(self.items_list) == 0:#This condition will show if there is nothing to show from the list\n",
    "             print(\"\\nYou have NOTHING!! in the Shopping List!!\")\n",
    "             print(\"_________________________________________\")\n",
    "        else:\n",
    "            print( \"\\nThis are your items in your bag: \")\n",
    "            for item in self.items_list:\n",
    "                print(item.title())         \n",
    "\n",
    "    def itemDelete(self):# Will remove the item given by the user\n",
    "        if len(self.items_list) == 0:#This Condition will show is there is nothing in the list\n",
    "            print(\"\\nThere is nothing in the Shooping list to  DELETE!!\")\n",
    "            print(\"__________________________________________________\\n\")\n",
    "        else:\n",
    "            print(f'This is your list:\\n{self.items_list}')\n",
    "            deleted_item = input('\\nwhich item you want to delete form the list?\\n')\n",
    "            if deleted_item not in self.items_list:\n",
    "                print(\"\\nThe name of the item is not on the  Shooping List!!\")\n",
    "                print(\"___________________________________________________\\n\")\n",
    "            else:\n",
    "                self.items_list.remove(deleted_item)\n",
    "                        \n",
    "    def userQuit(Self):#Will display the list and end the program\n",
    "        if len(Self.items_list) == 0:#This will show iif the user quit the program before adding anything to the list\n",
    "            print(\"\\nYou Have quit the program!!, Why Run it?\")\n",
    "            print(\"_______________________________________\\n\")\n",
    "        else:\n",
    "            print('\\nThis is the Shopping List you created:')\n",
    "            for item in Self.items_list:\n",
    "                print(item.title())"
   ]
  },
  {
   "cell_type": "code",
   "execution_count": 19,
   "metadata": {},
   "outputs": [
    {
     "name": "stdout",
     "output_type": "stream",
     "text": [
      "\n",
      "What whould you like to do?\n",
      "You may choose the following options:\n",
      "-Add\n",
      "-Show\n",
      "-Delete\n",
      "-Quit\n",
      "You choose: add\n",
      "\n",
      "What would you like to add to the list!\n",
      "apple\n",
      "\n",
      "What whould you like to do?\n",
      "You may choose the following options:\n",
      "-Add\n",
      "-Show\n",
      "-Delete\n",
      "-Quit\n",
      "You choose: add\n",
      "\n",
      "What would you like to add to the list!\n",
      "banana\n",
      "\n",
      "What whould you like to do?\n",
      "You may choose the following options:\n",
      "-Add\n",
      "-Show\n",
      "-Delete\n",
      "-Quit\n",
      "You choose: add\n",
      "\n",
      "What would you like to add to the list!\n",
      "coffe\n",
      "\n",
      "What whould you like to do?\n",
      "You may choose the following options:\n",
      "-Add\n",
      "-Show\n",
      "-Delete\n",
      "-Quit\n",
      "You choose: show\n",
      "\n",
      "This are your items in your bag: \n",
      "Apple\n",
      "Banana\n",
      "Coffe\n",
      "\n",
      "What whould you like to do?\n",
      "You may choose the following options:\n",
      "-Add\n",
      "-Show\n",
      "-Delete\n",
      "-Quit\n",
      "You choose: quit\n",
      "\n",
      "This is the Shopping List you created:\n",
      "Apple\n",
      "Banana\n",
      "Coffe\n"
     ]
    }
   ],
   "source": [
    "shoppinglist = Cart()\n",
    "def shoppingCartList():\n",
    "    while True:\n",
    "        print('\\nWhat whould you like to do?\\nYou may choose the following options:\\n-Add\\n-Show\\n-Delete\\n-Quit')\n",
    "        user_response = input('You choose: ')\n",
    "        if user_response.lower() == 'add':\n",
    "            shoppinglist.userAdd()\n",
    "        elif user_response.lower() == 'show':\n",
    "            shoppinglist.showList()\n",
    "        elif user_response.lower() == 'delete':\n",
    "            shoppinglist.itemDelete()\n",
    "        elif user_response.lower() == 'quit':\n",
    "            shoppinglist.userQuit()\n",
    "            break\n",
    "        else:\n",
    "            print(\"\\nError:That is not a valid option.Please use Add/Show/Delete or Quit\\n\")\n",
    "\n",
    "shoppingCartList()"
   ]
  },
  {
   "cell_type": "markdown",
   "metadata": {},
   "source": [
    "### Exercise 2 - Write a Python class which has two methods get_String and print_String. get_String accept a string from the user and print_String print the string in upper case"
   ]
  },
  {
   "cell_type": "code",
   "execution_count": 13,
   "metadata": {},
   "outputs": [
    {
     "name": "stdout",
     "output_type": "stream",
     "text": [
      "wow\n",
      "WOW\n"
     ]
    }
   ],
   "source": [
    "class String():\n",
    "    def __init__(self):\n",
    "        self.thestring = \"\"\n",
    "\n",
    "    def get_String(self):\n",
    "        self.thestring = input()\n",
    "\n",
    "    def print_String(self):\n",
    "        print(self.thestring.upper())\n",
    "\n",
    "thestring = String()\n",
    "thestring.get_String()\n",
    "thestring.print_String()\n",
    "\n",
    "\n",
    "\n"
   ]
  }
 ],
 "metadata": {
  "kernelspec": {
   "display_name": "Python 3 (ipykernel)",
   "language": "python",
   "name": "python3"
  },
  "language_info": {
   "codemirror_mode": {
    "name": "ipython",
    "version": 3
   },
   "file_extension": ".py",
   "mimetype": "text/x-python",
   "name": "python",
   "nbconvert_exporter": "python",
   "pygments_lexer": "ipython3",
   "version": "3.9.12"
  },
  "vscode": {
   "interpreter": {
    "hash": "e4c2a3e76aa564ea103c348bd9b84947184cffa7c887ee650848e6c23d64c96b"
   }
  }
 },
 "nbformat": 4,
 "nbformat_minor": 2
}
